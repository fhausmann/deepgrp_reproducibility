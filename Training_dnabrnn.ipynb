{
 "cells": [
  {
   "cell_type": "markdown",
   "metadata": {},
   "source": [
    "# Training of dna-brnn with hyperparameter from deepgrp"
   ]
  },
  {
   "cell_type": "markdown",
   "metadata": {},
   "source": [
    "## 1) Setup"
   ]
  },
  {
   "cell_type": "code",
   "execution_count": null,
   "metadata": {},
   "outputs": [],
   "source": [
    "import os\n",
    "from os import path\n",
    "import time\n",
    "import subprocess\n",
    "import pandas as pd\n",
    "from deepgrp import model as deepgrp_model"
   ]
  },
  {
   "cell_type": "code",
   "execution_count": null,
   "metadata": {},
   "outputs": [],
   "source": [
    "PROJECT_ROOT_DIR = \".\"\n",
    "GENOMEBUILD = \"hg19\"\n",
    "TRAIN_CHR = \"chr11\"\n",
    "VAL_CHR = \"chr20\"\n",
    "RESULTS_PATH = './results'"
   ]
  },
  {
   "cell_type": "code",
   "execution_count": null,
   "metadata": {},
   "outputs": [],
   "source": [
    "datadir = path.join(PROJECT_ROOT_DIR, \"data\")"
   ]
  },
  {
   "cell_type": "markdown",
   "metadata": {},
   "source": [
    "## 2) Load from toml"
   ]
  },
  {
   "cell_type": "code",
   "execution_count": null,
   "metadata": {},
   "outputs": [],
   "source": [
    "TOML_FILE = path.join(PROJECT_ROOT_DIR, \"best_model.toml\")"
   ]
  },
  {
   "cell_type": "code",
   "execution_count": null,
   "metadata": {},
   "outputs": [],
   "source": [
    "with open(TOML_FILE, 'r') as file:\n",
    "    hyperparameter = deepgrp_model.Options.from_toml(file)"
   ]
  },
  {
   "cell_type": "code",
   "execution_count": null,
   "metadata": {},
   "outputs": [],
   "source": [
    "MODELS_TO_TRAIN = 6"
   ]
  },
  {
   "cell_type": "code",
   "execution_count": null,
   "metadata": {},
   "outputs": [],
   "source": [
    "results = dict()"
   ]
  },
  {
   "cell_type": "markdown",
   "metadata": {},
   "source": [
    "## 3) Train dna-brnn"
   ]
  },
  {
   "cell_type": "code",
   "execution_count": null,
   "metadata": {},
   "outputs": [],
   "source": [
    "def train_dnabrnn(hyperparameter, threads, training_file, outputfilename):\n",
    "    command = [\n",
    "        'dna-nn/dna-brnn', '-t{}'.format(threads),\n",
    "        '-n{:d}'.format(hyperparameter.units),\n",
    "        '-u{:d}'.format(hyperparameter.vecsize),\n",
    "        '-d{:.4f}'.format(hyperparameter.dropout), '-b5m', '-m50', '-s14', '-o',\n",
    "        outputfilename, training_file\n",
    "    ]\n",
    "    with open('dnabrnnerror.log', 'ab') as file:\n",
    "        start_time = time.time()\n",
    "        process = subprocess.Popen(command, stderr=file)\n",
    "        process.wait()\n",
    "        end_time = time.time()\n",
    "    return end_time - start_time"
   ]
  },
  {
   "cell_type": "markdown",
   "metadata": {},
   "source": [
    "### 3.1) Prepare training data"
   ]
  },
  {
   "cell_type": "code",
   "execution_count": null,
   "metadata": {
    "lines_to_next_cell": 2
   },
   "outputs": [],
   "source": [
    "import re\n",
    "_REGEX = re.compile(r'^{}\\s'.format(TRAIN_CHR))"
   ]
  },
  {
   "cell_type": "code",
   "execution_count": null,
   "metadata": {
    "lines_to_next_cell": 2
   },
   "outputs": [],
   "source": [
    "training_fastq_path = path.join(\"dna-nn\", TRAIN_CHR + '.lb4.fq')\n",
    "training_bed = path.join('dna-nn', TRAIN_CHR + '.bed')\n",
    "with open(path.join(datadir, GENOMEBUILD + \".bed\")) as infile:\n",
    "    with open(training_bed, 'w') as outfile:\n",
    "        [outfile.write(line) for line in infile if _REGEX.search(line)]\n",
    "\n",
    "command = [\n",
    "    \"dna-nn/gen-fq\", \"-m4\",\n",
    "    path.join(datadir, GENOMEBUILD, TRAIN_CHR + '.fa'), training_bed\n",
    "]\n",
    "with open(training_fastq_path, 'wb') as file:\n",
    "    process = subprocess.Popen(command, stdout=file)"
   ]
  },
  {
   "cell_type": "markdown",
   "metadata": {},
   "source": [
    "### 3.2) Run the training"
   ]
  },
  {
   "cell_type": "code",
   "execution_count": null,
   "metadata": {},
   "outputs": [],
   "source": [
    "for i in range(MODELS_TO_TRAIN):\n",
    "    modelname = 'dnabrnn_model{:d}.knm'.format(i)\n",
    "    results[modelname] = train_dnabrnn(hyperparameter, THREADS,\n",
    "                                       training_fastq_path, modelname)"
   ]
  },
  {
   "cell_type": "markdown",
   "metadata": {},
   "source": [
    "## 4) Save training times to CSV file"
   ]
  },
  {
   "cell_type": "code",
   "execution_count": null,
   "metadata": {},
   "outputs": [],
   "source": [
    "results = pd.Series(results).to_frame().reset_index()"
   ]
  },
  {
   "cell_type": "code",
   "execution_count": null,
   "metadata": {},
   "outputs": [],
   "source": [
    "results['model'] = 'dnabrnn'"
   ]
  },
  {
   "cell_type": "code",
   "execution_count": null,
   "metadata": {},
   "outputs": [],
   "source": [
    "results.rename({'index': 'modelname', 0: 'training time'}, axis=1, inplace=True)"
   ]
  },
  {
   "cell_type": "code",
   "execution_count": null,
   "metadata": {},
   "outputs": [],
   "source": [
    "results.to_csv(os.path.join(RESULTS_PATH,'training_times_dnabrnn.csv'))"
   ]
  }
 ],
 "metadata": {
  "jupytext": {
   "formats": "ipynb,py:hydrogen"
  },
  "kernelspec": {
   "display_name": "Python (deepgrp)",
   "language": "python",
   "name": "deepgrp"
  },
  "language_info": {
   "codemirror_mode": {
    "name": "ipython",
    "version": 3
   },
   "file_extension": ".py",
   "mimetype": "text/x-python",
   "name": "python",
   "nbconvert_exporter": "python",
   "pygments_lexer": "ipython3",
   "version": "3.7.6"
  }
 },
 "nbformat": 4,
 "nbformat_minor": 4
}
