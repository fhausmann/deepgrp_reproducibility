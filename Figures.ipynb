{
 "cells": [
  {
   "cell_type": "code",
   "execution_count": 1,
   "metadata": {},
   "outputs": [],
   "source": [
    "import seaborn as sns\n",
    "import numpy as np\n",
    "import os\n",
    "import matplotlib\n",
    "import matplotlib.pyplot as plt\n",
    "import pandas as pd\n",
    "import json\n",
    "import scipy\n",
    "from os import path\n",
    "%matplotlib inline"
   ]
  },
  {
   "cell_type": "code",
   "execution_count": 2,
   "metadata": {},
   "outputs": [],
   "source": [
    "def drop_start_end_n(fwd: np.array) -> np.array:\n",
    "    \"\"\"!Drops leading and trailing N's of sequences.\n",
    "\n",
    "    Args:\n",
    "        fwd (np.array): Forward sequence.\n",
    "\n",
    "    Returns:\n",
    "        np.array: Slice of the arguments.\n",
    "\n",
    "    \"\"\"\n",
    "    start = 0\n",
    "    sums = fwd[0:4].sum(axis=0)\n",
    "    start = np.argmax(sums > 0)\n",
    "    end = fwd.shape[1] - 1 - np.argmax(np.flip(sums) > 0)\n",
    "    return fwd[:, start:end]\n",
    "\n"
   ]
  },
  {
   "cell_type": "code",
   "execution_count": 3,
   "metadata": {},
   "outputs": [],
   "source": [
    "def plot_confusion_matrix(cm,\n",
    "                          classes,\n",
    "                          ax,\n",
    "                          normalize=False,\n",
    "                          title=None,\n",
    "                          cmap=plt.cm.Greys):\n",
    "    \"\"\"\n",
    "    This function prints and plots the confusion matrix.\n",
    "    Normalization can be applied by setting `normalize=True`.\n",
    "    \"\"\"\n",
    "    if title is None:\n",
    "        if normalize:\n",
    "            title = 'Normalized confusion matrix'\n",
    "        else:\n",
    "            title = 'Confusion matrix, without normalization'\n",
    "\n",
    "    if normalize:\n",
    "        cm = cm.astype('float') / cm.sum(axis=1)[:, np.newaxis]\n",
    "\n",
    "    im = ax.imshow(cm, cmap=cmap)\n",
    "    #ax.figure.colorbar(im, ax=ax)\n",
    "    # We want to show all ticks...\n",
    "    ax.set(\n",
    "        xticks=np.arange(cm.shape[1]),\n",
    "        yticks=np.arange(cm.shape[0]),\n",
    "        # ... and label them with the respective list entries\n",
    "        xticklabels=classes,\n",
    "        yticklabels=classes,\n",
    "        title=title,\n",
    "        ylabel='True label',\n",
    "        xlabel='Predicted label'\n",
    "    )\n",
    "    ax.set_xticklabels(classes, rotation=45, ha=\"right\")\n",
    "\n",
    "    # Rotate the tick labels and set their alignment.\n",
    "\n",
    "    # Loop over data dimensions and create text annotations.\n",
    "    fmt = '.2f' if normalize else '.1f'\n",
    "    thresh = cm.max() / 2.\n",
    "    text_th = 0.01 if normalize else 0\n",
    "    for i in range(cm.shape[0]):\n",
    "        for j in range(cm.shape[1]):\n",
    "            if cm[i, j] > text_th:\n",
    "                ax.text(j,\n",
    "                        i,\n",
    "                        format(cm[i, j], fmt),\n",
    "                        ha=\"center\",\n",
    "                        va=\"center\",\n",
    "                        color=\"white\" if cm[i, j] > thresh else \"black\")\n",
    "    fig.tight_layout()\n",
    "    return ax\n",
    "\n"
   ]
  },
  {
   "cell_type": "code",
   "execution_count": 4,
   "metadata": {},
   "outputs": [],
   "source": [
    "PROJECTROOTDIR = \".\"\n",
    "DATADIR = path.join(PROJECTROOTDIR, \"data\")\n",
    "FIGDIR = \"./figures\"\n",
    "RESULTS_PATH = './results'"
   ]
  },
  {
   "cell_type": "code",
   "execution_count": 5,
   "metadata": {},
   "outputs": [],
   "source": [
    "LABELS = ['no repeat', 'HSAT2,3', 'Alphoid', 'Alu', 'LINE-1']"
   ]
  },
  {
   "cell_type": "code",
   "execution_count": 6,
   "metadata": {},
   "outputs": [],
   "source": [
    "os.makedirs(FIGDIR, exist_ok=True)"
   ]
  },
  {
   "cell_type": "code",
   "execution_count": 7,
   "metadata": {},
   "outputs": [],
   "source": [
    "sns.set_context('paper')"
   ]
  },
  {
   "cell_type": "code",
   "execution_count": 8,
   "metadata": {},
   "outputs": [],
   "source": [
    "def preprocess_data(results):\n",
    "    data = dict()\n",
    "    time_data = list()\n",
    "    for dataset, models_dicts in results.items():\n",
    "        for model, metrics in models_dicts.items():\n",
    "            for k in metrics:\n",
    "                if k == 'runtime':\n",
    "                    time_data.append(\n",
    "                        [dataset.replace('.fa', ''), model, metrics['runtime']])\n",
    "                    continue\n",
    "                if k == 'confusionmatrix':\n",
    "                    continue\n",
    "                if k not in data:\n",
    "                    data[k] = list()\n",
    "                if isinstance(metrics[k], list):\n",
    "                    data[k].append([dataset.replace('.fa', ''), model] +\n",
    "                                   metrics[k][1:])\n",
    "    for k in data:\n",
    "        data[k] = pd.DataFrame(data[k],\n",
    "                               columns=['dataset', 'model'] + LABELS[1:])\n",
    "\n",
    "    time_data = pd.DataFrame(time_data,\n",
    "                             columns=['dataset', 'model', 'running time'])\n",
    "    return data, time_data"
   ]
  },
  {
   "cell_type": "code",
   "execution_count": 9,
   "metadata": {},
   "outputs": [],
   "source": [
    "def get_cnf_matrices(results):\n",
    "    confusion_matrices = dict()\n",
    "    for dataset, models in results.items():\n",
    "        confusion_matrices[dataset] = np.zeros(\n",
    "            (len(models), len(LABELS), len(LABELS)))\n",
    "        for i, metrics in enumerate(models.values()):\n",
    "            confusion_matrices[dataset][i] = metrics['confusionmatrix']\n",
    "    return confusion_matrices\n",
    "\n"
   ]
  },
  {
   "cell_type": "markdown",
   "metadata": {},
   "source": [
    "# Running time and Accuracy"
   ]
  },
  {
   "cell_type": "code",
   "execution_count": 10,
   "metadata": {
    "lines_to_next_cell": 2
   },
   "outputs": [],
   "source": [
    "styles = {'margin_titles': True, 'ylim': (0, 1), 'height': 5}"
   ]
  },
  {
   "cell_type": "code",
   "execution_count": 11,
   "metadata": {
    "lines_to_next_cell": 2
   },
   "outputs": [],
   "source": [
    "with open(os.path.join(RESULTS_PATH,'deepgrp_cpu_results.json'), 'rb') as file:\n",
    "    deepgrp_cpu_data = json.load(file)\n",
    "\n",
    "with open(os.path.join(RESULTS_PATH,'deepgrp_gpu_results.json'), 'rb') as file:\n",
    "    deepgrp_gpu_data = json.load(file)\n",
    "\n",
    "with open(os.path.join(RESULTS_PATH,'dnabrnn_results.json'), 'rb') as file:\n",
    "    dnabrnn_data = json.load(file)"
   ]
  },
  {
   "cell_type": "code",
   "execution_count": 12,
   "metadata": {
    "lines_to_next_cell": 2
   },
   "outputs": [],
   "source": [
    "deepgrp_cpu = preprocess_data(deepgrp_cpu_data)\n",
    "deepgrp_gpu = preprocess_data(deepgrp_gpu_data)\n",
    "dnabrnn = preprocess_data(dnabrnn_data)"
   ]
  },
  {
   "cell_type": "code",
   "execution_count": 13,
   "metadata": {},
   "outputs": [],
   "source": [
    "FPR = deepgrp_cpu[0]['FPR']\n",
    "FPR[''] = 'FPR'\n",
    "\n",
    "FNR = deepgrp_cpu[0]['FNR']\n",
    "FNR[''] = 'FNR'"
   ]
  },
  {
   "cell_type": "code",
   "execution_count": 14,
   "metadata": {},
   "outputs": [],
   "source": [
    "deepgrp_metrics = FPR.append(FNR).set_index(['', 'dataset']).drop('hg19/chr20',\n",
    "                                                          axis=0,level=1)\n",
    "deepgrp_metrics['modeltype']='deepgrp'"
   ]
  },
  {
   "cell_type": "code",
   "execution_count": 15,
   "metadata": {},
   "outputs": [],
   "source": [
    "FPR = dnabrnn[0]['FPR']\n",
    "FPR[''] = 'FPR'\n",
    "\n",
    "FNR = dnabrnn[0]['FNR']\n",
    "FNR[''] = 'FNR'"
   ]
  },
  {
   "cell_type": "code",
   "execution_count": 16,
   "metadata": {},
   "outputs": [],
   "source": [
    "dnabrnn_metrics= FPR.append(FNR).set_index(['', 'dataset']).drop('hg19/chr20',\n",
    "                                                          axis=0,\n",
    "                                                          level=1)\n",
    "dnabrnn_metrics['modeltype']='dnabrnn'"
   ]
  },
  {
   "cell_type": "code",
   "execution_count": 17,
   "metadata": {},
   "outputs": [],
   "source": [
    "metrics = deepgrp_metrics.append(dnabrnn_metrics)"
   ]
  },
  {
   "cell_type": "code",
   "execution_count": 18,
   "metadata": {},
   "outputs": [],
   "source": [
    "metrics = metrics.reset_index().set_index(['modeltype','','dataset'])"
   ]
  },
  {
   "cell_type": "code",
   "execution_count": 19,
   "metadata": {},
   "outputs": [],
   "source": [
    "std = metrics.groupby(metrics.index).std()\n",
    "std.index = pd.MultiIndex.from_tuples(std.index)\n",
    "mean = metrics.groupby(metrics.index).mean()\n",
    "mean.index = pd.MultiIndex.from_tuples(mean.index)"
   ]
  },
  {
   "cell_type": "code",
   "execution_count": 20,
   "metadata": {
    "lines_to_next_cell": 2
   },
   "outputs": [],
   "source": [
    "metrics = (mean.apply(lambda x: x.map('${:.4f} \\pm '.format)) +\n",
    "           std.apply(lambda x: x.map('{:.4f}$'.format))).replace(\n",
    "               \"$nan \\pm nan$\", \"Na\")"
   ]
  },
  {
   "cell_type": "code",
   "execution_count": 21,
   "metadata": {},
   "outputs": [],
   "source": [
    "metrics = metrics.reindex([\"hg19/chr1\", \"hg38/chr1\", \"mm10/chr2\"], level=2)"
   ]
  },
  {
   "cell_type": "code",
   "execution_count": 22,
   "metadata": {
    "lines_to_next_cell": 2
   },
   "outputs": [],
   "source": [
    "with open(path.join(FIGDIR, 'table1.tex'), 'w') as file:\n",
    "    metrics.to_latex(file,\n",
    "                     float_format='%.4f',\n",
    "                     bold_rows=True,\n",
    "                     multirow=True,\n",
    "                     escape=False,\n",
    "                     column_format=\"llrrrr\")"
   ]
  },
  {
   "cell_type": "code",
   "execution_count": 23,
   "metadata": {
    "lines_to_next_cell": 2
   },
   "outputs": [],
   "source": [
    "deepgrp_cnfs = get_cnf_matrices(deepgrp_cpu_data)"
   ]
  },
  {
   "cell_type": "code",
   "execution_count": 24,
   "metadata": {
    "lines_to_next_cell": 2
   },
   "outputs": [
    {
     "data": {
      "image/png": "[encoded data removed]",
      "text/plain": [
       "<Figure size 396x396 with 2 Axes>"
      ]
     },
     "metadata": {
      "needs_background": "light"
     },
     "output_type": "display_data"
    }
   ],
   "source": [
    "fig, ax = plt.subplots(1, 2, figsize=(5.5, 5.5),sharey=True,sharex=True)\n",
    "plot_confusion_matrix(deepgrp_cnfs['hg19/chr1.fa'].mean(axis=0),\n",
    "                      LABELS,\n",
    "                      ax[0],\n",
    "                      normalize=True,\n",
    "                      title='hg19')\n",
    "ax[0].set_xticklabels([])\n",
    "plot_confusion_matrix(deepgrp_cnfs['hg38/chr1.fa'].mean(axis=0),\n",
    "                      LABELS,\n",
    "                      ax[1],\n",
    "                      normalize=True,\n",
    "                      title='hg38')\n",
    "fig.subplots_adjust(wspace=0.2)\n",
    "plt.savefig(path.join(FIGDIR, 'figure3.pdf'),\n",
    "            bbox_inches='tight',\n",
    "            pad_inches=0)"
   ]
  },
  {
   "cell_type": "code",
   "execution_count": 25,
   "metadata": {},
   "outputs": [],
   "source": [
    "chr_length = pd.DataFrame()\n",
    "for chromosome in deepgrp_cpu[1]['dataset'].str.split('/',expand=True)[0].unique():\n",
    "    tmp = pd.read_csv(\n",
    "    'http://hgdownload.cse.ucsc.edu/goldenPath/{}/bigZips/{}.chrom.sizes'.format(chromosome,chromosome),\n",
    "    sep='\\t',\n",
    "    header=None,\n",
    "    names=['chromosome', 'sequence length'],\n",
    "    index_col=0)\n",
    "    tmp.index = '{}/'.format(chromosome)+tmp.index\n",
    "    chr_length = chr_length.append(tmp)"
   ]
  },
  {
   "cell_type": "code",
   "execution_count": 26,
   "metadata": {},
   "outputs": [],
   "source": [
    "chr_length['sequence length'] = chr_length['sequence length'] / 1e6"
   ]
  },
  {
   "cell_type": "code",
   "execution_count": 27,
   "metadata": {
    "lines_to_next_cell": 2
   },
   "outputs": [],
   "source": [
    "deepgrp_cpu_time = pd.merge(deepgrp_cpu[1],chr_length,left_on='dataset',right_index=True)\n",
    "deepgrp_gpu_time = pd.merge(deepgrp_gpu[1],chr_length,left_on='dataset',right_index=True)\n",
    "dnabrnn_time = pd.merge(dnabrnn[1],chr_length,left_on='dataset',right_index=True)"
   ]
  },
  {
   "cell_type": "code",
   "execution_count": 28,
   "metadata": {},
   "outputs": [],
   "source": [
    "deepgrp_cpu_time_reg = scipy.stats.linregress(\n",
    "    deepgrp_cpu_time[\"sequence length\"], deepgrp_cpu_time[\"running time\"])\n",
    "deepgrp_gpu_time_reg = scipy.stats.linregress(\n",
    "    deepgrp_gpu_time[\"sequence length\"], deepgrp_gpu_time[\"running time\"])\n",
    "dnabrnn_time_reg = scipy.stats.linregress(dnabrnn_time[\"sequence length\"],\n",
    "                                          dnabrnn_time[\"running time\"])"
   ]
  },
  {
   "cell_type": "code",
   "execution_count": 29,
   "metadata": {
    "lines_to_next_cell": 2
   },
   "outputs": [],
   "source": [
    "deepgrp_cpu_time.insert(0, \"modeltype\", \"DeepGRP\")\n",
    "deepgrp_gpu_time.insert(0, \"modeltype\", \"DeepGRP-GPU\")\n",
    "dnabrnn_time.insert(0, \"modeltype\", \"dna-brnn\")"
   ]
  },
  {
   "cell_type": "code",
   "execution_count": 30,
   "metadata": {},
   "outputs": [
    {
     "data": {
      "image/png": "[encoded data removed]",
      "text/plain": [
       "<Figure size 432x288 with 1 Axes>"
      ]
     },
     "metadata": {
      "needs_background": "light"
     },
     "output_type": "display_data"
    }
   ],
   "source": [
    "header = \"{} ({:.3g} + {:.3g}n)\"\n",
    "\n",
    "ax = sns.regplot(x='sequence length',\n",
    "                 y='running time',\n",
    "                 data=deepgrp_cpu_time,\n",
    "                 marker='x',\n",
    "                 color='black',\n",
    "                 label=header.format('DeepGRP', deepgrp_cpu_time_reg[1],\n",
    "                                     deepgrp_cpu_time_reg[0]))\n",
    "sns.regplot(x='sequence length',\n",
    "            y='running time',\n",
    "            data=dnabrnn_time,\n",
    "            ax=ax,\n",
    "            color='grey',\n",
    "            label=header.format('dna-brnn', dnabrnn_time_reg[1],\n",
    "                                dnabrnn_time_reg[0]))\n",
    "sns.regplot(x='sequence length',\n",
    "            y='running time',\n",
    "            data=deepgrp_gpu_time,\n",
    "            marker='v',\n",
    "            ax=ax,\n",
    "            color='black',\n",
    "            label=header.format('DeepGRP-GPU', deepgrp_gpu_time_reg[1],\n",
    "                                deepgrp_gpu_time_reg[0]))\n",
    "ax.set(xlabel='sequence length $n$ [Mbp]', ylabel=\"running time [s]\")\n",
    "ax.legend()\n",
    "\n",
    "plt.savefig(path.join(FIGDIR, 'figure2.pdf'),\n",
    "            dpi=300,\n",
    "            bbox_inches='tight',\n",
    "            pad_inches=0)"
   ]
  },
  {
   "cell_type": "markdown",
   "metadata": {},
   "source": [
    "# Complete hg19"
   ]
  },
  {
   "cell_type": "code",
   "execution_count": 31,
   "metadata": {},
   "outputs": [],
   "source": [
    "def get_mcc_from_json(data):\n",
    "    mcc = {}\n",
    "    for dataset, val in data.items():\n",
    "        mcc[dataset] = dict()\n",
    "        for model, values in val.items():\n",
    "            mcc[dataset][model]=np.array(values['MCC'])\n",
    "    return pd.DataFrame(mcc)"
   ]
  },
  {
   "cell_type": "code",
   "execution_count": 32,
   "metadata": {},
   "outputs": [],
   "source": [
    "def reformat_columns(mcc):\n",
    "    mcc.columns = pd.Series(mcc.columns).apply(\n",
    "        lambda x: int(x.replace('hg19/chr', '').replace('.fa', '')))\n",
    "    mcc = mcc.unstack().to_frame()[0].apply(lambda x: x.reshape(-1))\n",
    "    mcc = pd.DataFrame(mcc.values.tolist(), index=mcc.index)\n",
    "    mcc = mcc.stack(dropna=False).T.reset_index()\n",
    "    mcc.columns = ['chromosome', 'model', 'repeat class', 'MCC']\n",
    "    mcc = mcc[mcc['repeat class'] > 0]\n",
    "    mcc['repeat class'].replace(REPEATS, inplace=True)\n",
    "    return mcc"
   ]
  },
  {
   "cell_type": "code",
   "execution_count": 33,
   "metadata": {},
   "outputs": [],
   "source": [
    "REPEATS = {\n",
    "    1: 'HSAT2,3',\n",
    "    2: 'Alphoid',\n",
    "    3: 'Alu',\n",
    "    4: 'LINE-1',\n",
    "}"
   ]
  },
  {
   "cell_type": "code",
   "execution_count": 34,
   "metadata": {},
   "outputs": [],
   "source": [
    "with open(os.path.join(RESULTS_PATH,'deepgrp_results_hg19complete.json'), 'rb') as file:\n",
    "    deepgrp = json.load(file)\n",
    "with open(os.path.join(RESULTS_PATH,'dnabrnn_results_hg19complete.json'), 'rb') as file:\n",
    "    dnabrnn = json.load(file)"
   ]
  },
  {
   "cell_type": "code",
   "execution_count": 35,
   "metadata": {},
   "outputs": [],
   "source": [
    "deepgrp_mcc = get_mcc_from_json(deepgrp)\n",
    "dnabrnn_mcc = get_mcc_from_json(dnabrnn)"
   ]
  },
  {
   "cell_type": "code",
   "execution_count": 36,
   "metadata": {},
   "outputs": [],
   "source": [
    "deepgrp_mcc = reformat_columns(deepgrp_mcc)\n",
    "dnabrnn_mcc = reformat_columns(dnabrnn_mcc)"
   ]
  },
  {
   "cell_type": "code",
   "execution_count": 37,
   "metadata": {},
   "outputs": [],
   "source": [
    "dnabrnn_mcc['modeltype']='dnabrnn'\n",
    "deepgrp_mcc['modeltype']='DeepGRP'\n",
    "mcc = deepgrp_mcc.append(dnabrnn_mcc)"
   ]
  },
  {
   "cell_type": "code",
   "execution_count": 38,
   "metadata": {},
   "outputs": [
    {
     "data": {
      "image/png": "[encoded data removed]",
      "text/plain": [
       "<Figure size 789.305x360 with 2 Axes>"
      ]
     },
     "metadata": {
      "needs_background": "light"
     },
     "output_type": "display_data"
    }
   ],
   "source": [
    "g = sns.catplot(\n",
    "    x=\"chromosome\",\n",
    "    y=\"MCC\",\n",
    "    hue=\"repeat class\",\n",
    "    col=\"modeltype\",\n",
    "    data=mcc.fillna(0),\n",
    "    kind=\"point\",\n",
    "    ci='sd',\n",
    "    dodge=True,\n",
    "    palette=['black', 'dimgrey', 'grey', 'darkgrey'],\n",
    "    markers=['v', 'p', 'o', 'D'],\n",
    "    height=5,\n",
    "    aspect=1,\n",
    "    linestyles=[''] * 4,\n",
    ")\n",
    "g.axes[0][0].set_ylabel('Matthews correlation coefficient')\n",
    "plt.savefig(path.join(FIGDIR,'figure4.pdf'), dpi=300, bbox_inches='tight')"
   ]
  },
  {
   "cell_type": "code",
   "execution_count": null,
   "metadata": {},
   "outputs": [],
   "source": []
  }
 ],
 "metadata": {
  "jupytext": {
   "formats": "ipynb,py:hydrogen"
  },
  "kernelspec": {
   "display_name": "Python 3",
   "language": "python",
   "name": "python3"
  },
  "language_info": {
   "codemirror_mode": {
    "name": "ipython",
    "version": 3
   },
   "file_extension": ".py",
   "mimetype": "text/x-python",
   "name": "python",
   "nbconvert_exporter": "python",
   "pygments_lexer": "ipython3",
   "version": "3.7.6"
  }
 },
 "nbformat": 4,
 "nbformat_minor": 4
}
