{
 "cells": [
  {
   "cell_type": "markdown",
   "metadata": {},
   "source": [
    "# Model predictions"
   ]
  },
  {
   "cell_type": "code",
   "execution_count": null,
   "metadata": {},
   "outputs": [],
   "source": [
    "import seaborn as sns\n",
    "import numpy as np\n",
    "import os\n",
    "import matplotlib\n",
    "import matplotlib.pyplot as plt\n",
    "import pandas as pd\n",
    "import json\n",
    "import scipy\n",
    "import pathlib\n",
    "from os import path\n",
    "%matplotlib inline"
   ]
  },
  {
   "cell_type": "code",
   "execution_count": null,
   "metadata": {},
   "outputs": [],
   "source": [
    "def plot_confusion_matrix(cm,\n",
    "                          classes,\n",
    "                          ax,\n",
    "                          normalize=False,\n",
    "                          title=None,\n",
    "                          cmap=plt.cm.Greys):\n",
    "    \"\"\"\n",
    "    This function prints and plots the confusion matrix.\n",
    "    Normalization can be applied by setting `normalize=True`.\n",
    "    \"\"\"\n",
    "    if title is None:\n",
    "        if normalize:\n",
    "            title = 'Normalized confusion matrix'\n",
    "        else:\n",
    "            title = 'Confusion matrix, without normalization'\n",
    "\n",
    "    if normalize:\n",
    "        cm = cm.astype('float') / cm.sum(axis=1)[:, np.newaxis]\n",
    "\n",
    "    im = ax.imshow(cm, cmap=cmap)\n",
    "    #ax.figure.colorbar(im, ax=ax)\n",
    "    # We want to show all ticks...\n",
    "    ax.set(\n",
    "        xticks=np.arange(cm.shape[1]),\n",
    "        yticks=np.arange(cm.shape[0]),\n",
    "        # ... and label them with the respective list entries\n",
    "        xticklabels=classes,\n",
    "        yticklabels=classes,\n",
    "        title=title,\n",
    "        ylabel='True label',\n",
    "        xlabel='Predicted label'\n",
    "    )\n",
    "    ax.set_xticklabels(classes, rotation=45, ha=\"right\")\n",
    "\n",
    "    # Rotate the tick labels and set their alignment.\n",
    "\n",
    "    # Loop over data dimensions and create text annotations.\n",
    "    fmt = '.2f' if normalize else '.1f'\n",
    "    thresh = np.nan_to_num(cm).max() / 2.\n",
    "    text_th = 0.01 if normalize else 0\n",
    "    for i in range(cm.shape[0]):\n",
    "        for j in range(cm.shape[1]):\n",
    "            if cm[i, j] > text_th:\n",
    "                ax.text(j,\n",
    "                        i,\n",
    "                        format(cm[i, j], fmt),\n",
    "                        ha=\"center\",\n",
    "                        va=\"center\",\n",
    "                        color=\"white\" if cm[i, j] > thresh else \"black\")\n",
    "    fig.tight_layout()\n",
    "    return ax\n",
    "\n"
   ]
  },
  {
   "cell_type": "code",
   "execution_count": null,
   "metadata": {},
   "outputs": [],
   "source": [
    "PROJECTROOTDIR = \".\"\n",
    "FIGDIR = \"./figures\"\n",
    "RESULTS_PATH = './results'"
   ]
  },
  {
   "cell_type": "code",
   "execution_count": null,
   "metadata": {},
   "outputs": [],
   "source": [
    "LABELS = ['no repeat', 'HSAT2,3', 'Alphoid', 'Alu', 'LINE-1']"
   ]
  },
  {
   "cell_type": "code",
   "execution_count": null,
   "metadata": {},
   "outputs": [],
   "source": [
    "FIGDIR = pathlib.Path(FIGDIR)\n",
    "FIGDIR.mkdir(exist_ok=True)"
   ]
  },
  {
   "cell_type": "code",
   "execution_count": null,
   "metadata": {},
   "outputs": [],
   "source": [
    "sns.set_context('paper')"
   ]
  },
  {
   "cell_type": "code",
   "execution_count": null,
   "metadata": {},
   "outputs": [],
   "source": [
    "def preprocess_data(results):\n",
    "    data = dict()\n",
    "    for genome, genomedict in results.items():\n",
    "        for chrom, models_dicts in genomedict.items():\n",
    "            dataset = genome+\"/\"+chrom\n",
    "            for model, metrics in models_dicts.items():\n",
    "                for k in metrics:\n",
    "                    if k == 'confusionmatrix':\n",
    "                        continue\n",
    "                    if k not in data:\n",
    "                        data[k] = list()\n",
    "                    if isinstance(metrics[k], list):\n",
    "                        data[k].append([dataset.replace('.fa', ''), model] +\n",
    "                                       metrics[k][1:])\n",
    "    for k in data:\n",
    "        data[k] = pd.DataFrame(data[k],\n",
    "                               columns=['dataset', 'model'] + LABELS[1:])\n",
    "    return data"
   ]
  },
  {
   "cell_type": "code",
   "execution_count": null,
   "metadata": {},
   "outputs": [],
   "source": [
    "def get_cnf_matrices(results):\n",
    "    confusion_matrices = dict()\n",
    "    for genome, genomedict in results.items():\n",
    "        for chrom, models in genomedict.items():\n",
    "            dataset = genome+\"/\"+chrom\n",
    "            confusion_matrices[dataset] = np.zeros(\n",
    "                (len(models), len(LABELS), len(LABELS)))\n",
    "            for i, metrics in enumerate(models.values()):\n",
    "                confusion_matrices[dataset][i] = metrics['confusionmatrix']\n",
    "    return confusion_matrices\n",
    "\n"
   ]
  },
  {
   "cell_type": "markdown",
   "metadata": {},
   "source": [
    "# Running time and Accuracy"
   ]
  },
  {
   "cell_type": "code",
   "execution_count": null,
   "metadata": {
    "lines_to_next_cell": 2
   },
   "outputs": [],
   "source": [
    "styles = {'margin_titles': True, 'ylim': (0, 1), 'height': 5}"
   ]
  },
  {
   "cell_type": "code",
   "execution_count": null,
   "metadata": {
    "lines_to_next_cell": 2
   },
   "outputs": [],
   "source": [
    "with pathlib.Path(RESULTS_PATH,'deepgrp_results.json').open('rb') as file:\n",
    "    deepgrp_gpu_data = json.load(file)\n",
    "\n",
    "with pathlib.Path(RESULTS_PATH,'dnabrnn_results.json').open('rb') as file:\n",
    "    dnabrnn_data = json.load(file)"
   ]
  },
  {
   "cell_type": "code",
   "execution_count": null,
   "metadata": {},
   "outputs": [],
   "source": [
    "mcc_deepgrp = pd.DataFrame({chrom:{k:v[\"totalMCC\"] for k, v in data.items()} for chrom, data in deepgrp_gpu_data[\"hg19\"].items()})"
   ]
  },
  {
   "cell_type": "code",
   "execution_count": null,
   "metadata": {},
   "outputs": [],
   "source": [
    "mcc_dnabrnn = pd.DataFrame({chrom:{k:v[\"totalMCC\"] for k, v in data.items()} for chrom, data in dnabrnn_data[\"hg19\"].items()})"
   ]
  },
  {
   "cell_type": "code",
   "execution_count": null,
   "metadata": {},
   "outputs": [],
   "source": [
    "mcc_deepgrp.stack().describe()"
   ]
  },
  {
   "cell_type": "code",
   "execution_count": null,
   "metadata": {},
   "outputs": [],
   "source": [
    "mcc_dnabrnn.stack().describe()"
   ]
  },
  {
   "cell_type": "code",
   "execution_count": null,
   "metadata": {
    "lines_to_next_cell": 2
   },
   "outputs": [],
   "source": [
    "\n",
    "deepgrp_gpu = preprocess_data(deepgrp_gpu_data)\n",
    "dnabrnn = preprocess_data(dnabrnn_data)"
   ]
  },
  {
   "cell_type": "code",
   "execution_count": null,
   "metadata": {},
   "outputs": [],
   "source": [
    "FPR = deepgrp_gpu['FPR']\n",
    "FPR[''] = 'FPR'\n",
    "\n",
    "FNR = deepgrp_gpu['FNR']\n",
    "FNR[''] = 'FNR'"
   ]
  },
  {
   "cell_type": "code",
   "execution_count": null,
   "metadata": {},
   "outputs": [],
   "source": [
    "deepgrp_metrics = FPR.append(FNR).set_index(['', 'dataset'])\n",
    "deepgrp_metrics['modeltype']='deepgrp'"
   ]
  },
  {
   "cell_type": "code",
   "execution_count": null,
   "metadata": {},
   "outputs": [],
   "source": [
    "FPR = dnabrnn['FPR']\n",
    "FPR[''] = 'FPR'\n",
    "\n",
    "FNR = dnabrnn['FNR']\n",
    "FNR[''] = 'FNR'"
   ]
  },
  {
   "cell_type": "code",
   "execution_count": null,
   "metadata": {},
   "outputs": [],
   "source": [
    "dnabrnn_metrics= FPR.append(FNR).set_index(['', 'dataset'])#\n",
    "dnabrnn_metrics['modeltype']='dnabrnn'"
   ]
  },
  {
   "cell_type": "code",
   "execution_count": null,
   "metadata": {},
   "outputs": [],
   "source": [
    "metrics = deepgrp_metrics.append(dnabrnn_metrics)"
   ]
  },
  {
   "cell_type": "code",
   "execution_count": null,
   "metadata": {},
   "outputs": [],
   "source": [
    "metrics = metrics.reset_index()\n",
    "metrics = metrics[metrics.dataset.isin((\"hg19/chr1\", \"hg38/chr1\", \"mm10/chr2\"))]\n",
    "metrics =  metrics.set_index(['modeltype','','dataset'])"
   ]
  },
  {
   "cell_type": "code",
   "execution_count": null,
   "metadata": {},
   "outputs": [],
   "source": [
    "FPR = metrics.xs(\"FPR\", level=1).drop(columns=[\"model\"]).stack().to_frame().reset_index()"
   ]
  },
  {
   "cell_type": "code",
   "execution_count": null,
   "metadata": {},
   "outputs": [],
   "source": [
    "FNR = metrics.xs(\"FNR\", level=1).drop(columns=[\"model\"]).stack().to_frame().reset_index()"
   ]
  },
  {
   "cell_type": "code",
   "execution_count": null,
   "metadata": {},
   "outputs": [],
   "source": [
    "FPR.rename(columns={\"level_2\":\"repeat\", 0:\"FPR\"},inplace=True)"
   ]
  },
  {
   "cell_type": "code",
   "execution_count": null,
   "metadata": {},
   "outputs": [],
   "source": [
    "FNR.rename(columns={\"level_2\":\"repeat\", 0:\"FNR\"},inplace=True)"
   ]
  },
  {
   "cell_type": "code",
   "execution_count": null,
   "metadata": {},
   "outputs": [],
   "source": [
    "FNR.modeltype = FNR.modeltype.replace({\"deepgrp\":\"DeepGRP\",\"dnabrnn\": \"dna-brnn\"})\n",
    "FPR.modeltype = FPR.modeltype.replace({\"deepgrp\":\"DeepGRP\",\"dnabrnn\": \"dna-brnn\"})"
   ]
  },
  {
   "cell_type": "code",
   "execution_count": null,
   "metadata": {},
   "outputs": [],
   "source": [
    "f = sns.catplot(y=\"FPR\",x=\"dataset\",col=\"repeat\",hue=\"modeltype\",data=FPR, kind=\"box\",color='black',legend=False)\n",
    "plt.legend(loc='best')\n",
    "plt.ylim(0,0.05)\n",
    "plt.savefig(pathlib.Path(FIGDIR, 'figure2.pdf'),\n",
    "            bbox_inches='tight',\n",
    "            pad_inches=0)"
   ]
  },
  {
   "cell_type": "code",
   "execution_count": null,
   "metadata": {},
   "outputs": [],
   "source": [
    "f = sns.catplot(y=\"FNR\",x=\"dataset\",col=\"repeat\",hue=\"modeltype\",data=FNR, kind=\"box\",color='black',legend=False, sharex=False)\n",
    "plt.legend(loc='best')\n",
    "plt.savefig(path.join(FIGDIR, 'figure3.pdf'),\n",
    "            bbox_inches='tight',\n",
    "            pad_inches=0)"
   ]
  },
  {
   "cell_type": "code",
   "execution_count": null,
   "metadata": {
    "lines_to_next_cell": 2
   },
   "outputs": [],
   "source": [
    "deepgrp_cnfs = get_cnf_matrices(deepgrp_gpu_data)"
   ]
  },
  {
   "cell_type": "code",
   "execution_count": null,
   "metadata": {},
   "outputs": [],
   "source": [
    "dnabrnn_cnfs = get_cnf_matrices(dnabrnn_data)"
   ]
  },
  {
   "cell_type": "code",
   "execution_count": null,
   "metadata": {
    "lines_to_next_cell": 2
   },
   "outputs": [],
   "source": [
    "fig, ax = plt.subplots(1, 2, figsize=(5.5, 5.5),sharey=True,sharex=True)\n",
    "plot_confusion_matrix(deepgrp_cnfs['hg19/chr1'].mean(axis=0),\n",
    "                      LABELS,\n",
    "                      ax[0],\n",
    "                      normalize=True,\n",
    "                      title='hg19/chr1')\n",
    "ax[0].set_xticklabels([])\n",
    "plot_confusion_matrix(deepgrp_cnfs['hg38/chr1'].mean(axis=0),\n",
    "                      LABELS,\n",
    "                      ax[1],\n",
    "                      normalize=True,\n",
    "                      title='hg38/chr1')\n",
    "fig.subplots_adjust(wspace=0.2)\n",
    "fig.suptitle(\"Evaluation of DeepGRP for hg19/chr1 and hg38/chr1\", y=0.78, x=0.55)\n",
    "plt.savefig(path.join(FIGDIR, 'figure4.pdf'),\n",
    "            bbox_inches='tight',\n",
    "            pad_inches=0)"
   ]
  },
  {
   "cell_type": "code",
   "execution_count": null,
   "metadata": {},
   "outputs": [],
   "source": [
    "fig, ax = plt.subplots(1, 2, figsize=(5.5, 5.5),sharey=True,sharex=True)\n",
    "plot_confusion_matrix(deepgrp_cnfs['hg19/chr1'].mean(axis=0),\n",
    "                      LABELS,\n",
    "                      ax[0],\n",
    "                      normalize=True,\n",
    "                      title='DeepGRP')\n",
    "ax[0].set_xticklabels([])\n",
    "plot_confusion_matrix(dnabrnn_cnfs['hg19/chr1'].mean(axis=0),\n",
    "                      LABELS,\n",
    "                      ax[1],\n",
    "                      normalize=True,\n",
    "                      title='dna-brnn')\n",
    "fig.subplots_adjust(wspace=0.2)\n",
    "fig.suptitle(\"Evaluation of DeepGRP and dna-brnn for hg19/chr1\", y=0.78, x=0.55)\n",
    "plt.savefig(path.join(FIGDIR, 'supplement_deepgrp_dnabrnn_hg19_chr1.pdf'),\n",
    "            bbox_inches='tight',\n",
    "            pad_inches=0)"
   ]
  },
  {
   "cell_type": "code",
   "execution_count": null,
   "metadata": {},
   "outputs": [],
   "source": [
    "fig, ax = plt.subplots(1, 2, figsize=(5.5, 5.5),sharey=True,sharex=True)\n",
    "plot_confusion_matrix(deepgrp_cnfs['hg38/chr1'].mean(axis=0),\n",
    "                      LABELS,\n",
    "                      ax[0],\n",
    "                      normalize=True,\n",
    "                      title='RepeatMasker annotation')\n",
    "ax[0].set_xticklabels([])\n",
    "plot_confusion_matrix(deepgrp_cnfs['dfam/chr1'].mean(axis=0),\n",
    "                      LABELS,\n",
    "                      ax[1],\n",
    "                      normalize=True,\n",
    "                      title='DFAM annotation')\n",
    "fig.subplots_adjust(wspace=0.2)\n",
    "fig.suptitle(\" Evaluation of DeepGRP for hg38/chr1 (1)\", y=0.78, x=0.55)\n",
    "plt.savefig(path.join(FIGDIR, 'supplement_dfam.pdf'),\n",
    "            bbox_inches='tight',\n",
    "            pad_inches=0)"
   ]
  },
  {
   "cell_type": "code",
   "execution_count": null,
   "metadata": {},
   "outputs": [],
   "source": [
    "fig, ax = plt.subplots(1, 2, figsize=(5.5, 5.5),sharey=True,sharex=True)\n",
    "plot_confusion_matrix(deepgrp_cnfs['hg38/chr1'].mean(axis=0),\n",
    "                      LABELS,\n",
    "                      ax[0],\n",
    "                      normalize=True,\n",
    "                      title='RepeatMasker annotation')\n",
    "ax[0].set_xticklabels([])\n",
    "plot_confusion_matrix(deepgrp_cnfs['dfam_and_rm/chr1'].mean(axis=0),\n",
    "                      LABELS,\n",
    "                      ax[1],\n",
    "                      normalize=True,\n",
    "                      title='DFAM $\\cap$ RepeatMasker annotation')\n",
    "fig.subplots_adjust(wspace=0.2)\n",
    "fig.suptitle(\"Evaluation of DeepGRP for hg38/chr1 (2)\", y=0.78, x=0.55)\n",
    "plt.savefig(path.join(FIGDIR, 'supplement_dfam_repeatmasker.pdf'),\n",
    "            bbox_inches='tight',\n",
    "            pad_inches=0)"
   ]
  },
  {
   "cell_type": "code",
   "execution_count": null,
   "metadata": {},
   "outputs": [],
   "source": [
    "fig, ax = plt.subplots(1, 2, figsize=(5.5, 5.5),sharey=True,sharex=True)\n",
    "plot_confusion_matrix(deepgrp_cnfs['hg38/chr1'].mean(axis=0),\n",
    "                      LABELS,\n",
    "                      ax[0],\n",
    "                      normalize=True,\n",
    "                      title='RepeatMasker annotation')\n",
    "ax[0].set_xticklabels([])\n",
    "plot_confusion_matrix(deepgrp_cnfs['dfam_no_rm/chr1'].mean(axis=0),\n",
    "                      LABELS,\n",
    "                      ax[1],\n",
    "                      normalize=True,\n",
    "                      title='DFAM \\ RepeatMasker annotation')\n",
    "fig.subplots_adjust(wspace=0.2)\n",
    "fig.suptitle(\"Evaluation of DeepGRP for hg38/chr1 (3)\", y=0.78, x=0.55)\n",
    "plt.savefig(path.join(FIGDIR, 'supplement_dfam_no_repeatmasker.pdf'),\n",
    "            bbox_inches='tight',\n",
    "            pad_inches=0)"
   ]
  },
  {
   "cell_type": "code",
   "execution_count": null,
   "metadata": {},
   "outputs": [],
   "source": [
    "fig, ax = plt.subplots(1, 2, figsize=(5.5, 5.5),sharey=True,sharex=True)\n",
    "plot_confusion_matrix(deepgrp_cnfs['hg38/chr1'].mean(axis=0),\n",
    "                      LABELS,\n",
    "                      ax[0],\n",
    "                      normalize=True,\n",
    "                      title='all regions of RM annot.')\n",
    "ax[0].set_xticklabels([])\n",
    "plot_confusion_matrix(deepgrp_cnfs['hg19_hg38_similar/chr1'].mean(axis=0),\n",
    "                      LABELS,\n",
    "                      ax[1],\n",
    "                      normalize=True,\n",
    "                      title='regions of hg38/chr1 similar to hg19/chr1')\n",
    "fig.subplots_adjust(wspace=0.2)\n",
    "fig.suptitle(\"Evaluation of DeepGRP for hg38/chr1 (4)\", y=0.78, x=0.6)\n",
    "plt.savefig(path.join(FIGDIR, 'supplement_repeatmasker_similar.pdf'),\n",
    "            bbox_inches='tight',\n",
    "            pad_inches=0)"
   ]
  },
  {
   "cell_type": "markdown",
   "metadata": {},
   "source": [
    "# Complete hg19"
   ]
  },
  {
   "cell_type": "code",
   "execution_count": null,
   "metadata": {},
   "outputs": [],
   "source": [
    "REPEATS = {\n",
    "    1: 'HSAT2,3',\n",
    "    2: 'Alphoid',\n",
    "    3: 'Alu',\n",
    "    4: 'LINE-1',\n",
    "}"
   ]
  },
  {
   "cell_type": "code",
   "execution_count": null,
   "metadata": {},
   "outputs": [],
   "source": [
    "deepgrp_mcc = deepgrp_gpu[\"MCC\"]\n",
    "dnabrnn_mcc = dnabrnn[\"MCC\"]"
   ]
  },
  {
   "cell_type": "code",
   "execution_count": null,
   "metadata": {},
   "outputs": [],
   "source": [
    "deepgrp_mcc = deepgrp_mcc.set_index([\"dataset\",\"model\"]).stack(dropna=False).reset_index().rename(columns={\"level_2\":\"repeat class\", 0:\"MCC\"})\n",
    "dnabrnn_mcc = dnabrnn_mcc.set_index([\"dataset\",\"model\"]).stack(dropna=False).reset_index().rename(columns={\"level_2\":\"repeat class\", 0:\"MCC\"})"
   ]
  },
  {
   "cell_type": "code",
   "execution_count": null,
   "metadata": {},
   "outputs": [],
   "source": [
    "dnabrnn_mcc['modeltype']='dna-brnn'\n",
    "deepgrp_mcc['modeltype']='DeepGRP'\n",
    "mcc = deepgrp_mcc.append(dnabrnn_mcc)"
   ]
  },
  {
   "cell_type": "code",
   "execution_count": null,
   "metadata": {},
   "outputs": [],
   "source": [
    "mcc = mcc[mcc.dataset.str.contains(\"hg19/chr\\d+\")]"
   ]
  },
  {
   "cell_type": "code",
   "execution_count": null,
   "metadata": {},
   "outputs": [],
   "source": [
    "mcc[\"chromosome\"] = pd.Categorical(mcc.dataset.str.replace(\"hg19/chr\", \"\"), categories=[str(i) for i in range(1,23)], ordered=True)"
   ]
  },
  {
   "cell_type": "code",
   "execution_count": null,
   "metadata": {},
   "outputs": [],
   "source": [
    "from matplotlib.ticker import MultipleLocator"
   ]
  },
  {
   "cell_type": "code",
   "execution_count": null,
   "metadata": {},
   "outputs": [],
   "source": [
    "g = sns.catplot(\n",
    "    x=\"chromosome\",\n",
    "    y=\"MCC\",\n",
    "    hue=\"repeat class\",\n",
    "    col=\"modeltype\",\n",
    "    data=mcc.fillna({\"MCC\":0.0}),\n",
    "    kind=\"point\",\n",
    "    ci=None,\n",
    "    dodge=True,\n",
    "    palette=['black', 'dimgrey', 'grey', 'darkgrey'],\n",
    "    markers=['v', 'p', 'o', 'D'],\n",
    "    height=5,\n",
    "    aspect=1,\n",
    "    linestyles=[''] * 4,\n",
    ")\n",
    "g.axes[0][0].set_ylabel('Matthews correlation coefficient')\n",
    "g.axes[0][0].set_title(\"DeepGRP on hg19\")\n",
    "g.axes[0][1].set_title(\"dna-brnn on hg19\")\n",
    "for ax in g.axes.flat:\n",
    "    ax.yaxis.set_minor_locator(MultipleLocator(0.1))\n",
    "    ax.grid(True, axis='both', alpha=0.5, which=\"both\")\n",
    "plt.savefig(path.join(FIGDIR,'figure5.pdf'), dpi=300, bbox_inches='tight')"
   ]
  },
  {
   "cell_type": "code",
   "execution_count": null,
   "metadata": {},
   "outputs": [],
   "source": [
    "mcc.groupby([\"repeat class\", \"modeltype\"]).describe()"
   ]
  },
  {
   "cell_type": "markdown",
   "metadata": {},
   "source": [
    "# Running Time"
   ]
  },
  {
   "cell_type": "code",
   "execution_count": null,
   "metadata": {},
   "outputs": [],
   "source": [
    "import pathlib\n",
    "import pandas as pd\n",
    "import json\n",
    "import re"
   ]
  },
  {
   "cell_type": "code",
   "execution_count": null,
   "metadata": {},
   "outputs": [],
   "source": [
    "def preprocess_data(results):\n",
    "    data = dict()\n",
    "    for dataset, models_dicts in results.items():\n",
    "        data[dataset] = dict()\n",
    "        for model, metrics in models_dicts.items():\n",
    "            data[dataset][model] = metrics[\"runtime\"]\n",
    "    return pd.DataFrame.from_dict(data, orient=\"index\")"
   ]
  },
  {
   "cell_type": "code",
   "execution_count": null,
   "metadata": {},
   "outputs": [],
   "source": [
    "with pathlib.Path(\"results\",'deepgrp_runningtime.json').open('rb') as file:\n",
    "    deepgrp_gpu_data = preprocess_data(json.load(file))\n",
    "deepgrp_gpu_data = deepgrp_gpu_data.stack().reset_index().rename(columns={\"level_0\":\"chromosome\",\"level_1\":\"model\", 0:\"running time [s]\"})\n",
    "deepgrp_gpu_data[\"model\"] = \"DeepGRP\""
   ]
  },
  {
   "cell_type": "code",
   "execution_count": null,
   "metadata": {},
   "outputs": [],
   "source": [
    "repeatmasker =  pd.read_csv(pathlib.Path(\"results\",\"repeatmasker_runningtime.csv\"), index_col=0)\n",
    "repeatmasker = repeatmasker.reset_index().rename(columns={\"index\":\"chromosome\",\"real\": \"running time [s]\"}).drop(columns=[\"user\", \"sys\"])\n",
    "repeatmasker[\"model\"] = \"RepeatMasker\""
   ]
  },
  {
   "cell_type": "code",
   "execution_count": null,
   "metadata": {},
   "outputs": [],
   "source": [
    "dfam =  pd.read_csv(pathlib.Path(\"results\", \"dfam_runningtime.csv\"), index_col=0)\n",
    "dfam = dfam.reset_index().rename(columns={\"index\":\"chromosome\",\"real\": \"running time [s]\"}).drop(columns=[\"user\", \"sys\"])\n",
    "dfam[\"model\"] = \"DFAM/HMMER\""
   ]
  },
  {
   "cell_type": "code",
   "execution_count": null,
   "metadata": {},
   "outputs": [],
   "source": [
    "with pathlib.Path(\"results\",'dnabrnn_runningtime.json').open('rb') as file:\n",
    "    dnabrnn = preprocess_data(json.load(file))\n",
    "dnabrnn = dnabrnn.stack().reset_index().rename(columns={\"level_0\":\"chromosome\",\"level_1\":\"model\", 0:\"running time [s]\"})\n",
    "dnabrnn[\"model\"] = \"dna-brnn\""
   ]
  },
  {
   "cell_type": "code",
   "execution_count": null,
   "metadata": {},
   "outputs": [],
   "source": [
    "data = pd.concat([deepgrp_gpu_data, repeatmasker,dfam,dnabrnn])"
   ]
  },
  {
   "cell_type": "code",
   "execution_count": null,
   "metadata": {},
   "outputs": [],
   "source": [
    "data['chromosome'] = data['chromosome'].str.split('/',expand=True)[1].str.replace(\".fa\",\"\", regex=False)"
   ]
  },
  {
   "cell_type": "code",
   "execution_count": null,
   "metadata": {},
   "outputs": [],
   "source": [
    "chr_length = pd.read_csv(pathlib.Path(\"data\",\"hg19.chrom.sizes\"),\n",
    "sep='\\t',\n",
    "header=None,\n",
    "names=['chromosome', 'sequence length'],\n",
    "index_col=0)"
   ]
  },
  {
   "cell_type": "code",
   "execution_count": null,
   "metadata": {},
   "outputs": [],
   "source": [
    "chr_length['sequence length'] = chr_length['sequence length'] / 1e6"
   ]
  },
  {
   "cell_type": "code",
   "execution_count": null,
   "metadata": {},
   "outputs": [],
   "source": [
    "data = pd.merge(data,chr_length,left_on='chromosome',right_index=True)"
   ]
  },
  {
   "cell_type": "code",
   "execution_count": null,
   "metadata": {},
   "outputs": [],
   "source": [
    "import scipy.stats"
   ]
  },
  {
   "cell_type": "code",
   "execution_count": null,
   "metadata": {},
   "outputs": [],
   "source": [
    "reg = data.groupby(\"model\").apply(lambda x: pd.Series(scipy.stats.linregress(x[\"sequence length\"], x[\"running time [s]\"]), index=[\"slope\",\n",
    "                                                                                                                                  \"intercept\",\n",
    "                                                                                                                                  \"r-value\",\n",
    "                                                                                                                                  \"p-value\",\n",
    "                                                                                                                                  \"stderr\"]\n",
    "))"
   ]
  },
  {
   "cell_type": "code",
   "execution_count": null,
   "metadata": {},
   "outputs": [],
   "source": [
    "import matplotlib.pyplot as plt\n",
    "import seaborn as sns\n",
    "sns.set_context(\"paper\")"
   ]
  },
  {
   "cell_type": "code",
   "execution_count": null,
   "metadata": {},
   "outputs": [],
   "source": [
    "header = \"{} ({:.3g} + {:.3g}n)\"\n",
    "ax = sns.lmplot(x='sequence length',\n",
    "            y='running time [s]',\n",
    "            data=data,\n",
    "            hue=\"model\",\n",
    "            markers=[\"x\",\"o\", \"*\",\"v\"],\n",
    "            palette='Greys')\n",
    "ax.set(xlabel='sequence length $n$ [Mbp]', ylabel=\"running time [s]\")\n",
    "\n",
    "#plt.yscale(\"log\")\n",
    "\n",
    "plt.savefig(pathlib.Path(\"figures\", 'figure6.pdf'),\n",
    "            dpi=300,\n",
    "            bbox_inches='tight',\n",
    "            pad_inches=0)"
   ]
  },
  {
   "cell_type": "code",
   "execution_count": null,
   "metadata": {},
   "outputs": [],
   "source": [
    "reg"
   ]
  },
  {
   "cell_type": "code",
   "execution_count": null,
   "metadata": {},
   "outputs": [],
   "source": [
    "reg[\"slope\"] / reg.loc[\"DeepGRP\", \"slope\"]"
   ]
  },
  {
   "cell_type": "code",
   "execution_count": null,
   "metadata": {},
   "outputs": [],
   "source": []
  }
 ],
 "metadata": {
  "jupytext": {
   "formats": "ipynb,py:hydrogen"
  },
  "kernelspec": {
   "display_name": "Python 3",
   "language": "python",
   "name": "python3"
  },
  "language_info": {
   "codemirror_mode": {
    "name": "ipython",
    "version": 3
   },
   "file_extension": ".py",
   "mimetype": "text/x-python",
   "name": "python",
   "nbconvert_exporter": "python",
   "pygments_lexer": "ipython3",
   "version": "3.9.4"
  }
 },
 "nbformat": 4,
 "nbformat_minor": 4
}
